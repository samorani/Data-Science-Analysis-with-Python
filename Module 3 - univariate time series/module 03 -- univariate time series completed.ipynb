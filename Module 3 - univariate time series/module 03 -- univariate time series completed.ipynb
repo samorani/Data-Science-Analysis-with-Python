{
 "cells": [
  {
   "cell_type": "markdown",
   "metadata": {},
   "source": [
    "# Univariate Time Series"
   ]
  },
  {
   "cell_type": "markdown",
   "metadata": {},
   "source": [
    "<b>Definition</b> from <a href='https://onlinecourses.science.psu.edu/stat510/node/47'>here</a>: <i>a sequence of measurements of the same variable collected over time</i>. Examples: stock prices, demand, housing prices."
   ]
  },
  {
   "cell_type": "markdown",
   "metadata": {},
   "source": [
    "In pandas a univariate time series is a Series object where the index is a \"timestamp\"."
   ]
  },
  {
   "cell_type": "markdown",
   "metadata": {},
   "source": [
    "## Stock prices"
   ]
  },
  {
   "cell_type": "markdown",
   "metadata": {},
   "source": [
    "Our goal is to create a Series object <i>stock</i> with the Google stock closing price."
   ]
  },
  {
   "cell_type": "markdown",
   "metadata": {},
   "source": [
    "<p><b>to install:</b> you must install fix-yahoo-finance. You can install it by executing the following command from a terminal:<br/>\n",
    "<i>pip install fix_yahoo_finance --upgrade --no-cache-dir</i><br/>\n",
    "(don't worry about errors)<br/>\n",
    "Make sure that pip is on the path. On my Windows machine, pip is in: <i>C:\\Users\\michele\\AppData\\Local\\Enthought\\Canopy\\User\\Scripts</i>"
   ]
  },
  {
   "cell_type": "markdown",
   "metadata": {},
   "source": [
    "The following code creates a Series object <i>stock</i> with the Google stock closing prices. Don't worry about undestanding this code."
   ]
  },
  {
   "cell_type": "code",
   "execution_count": 1,
   "metadata": {
    "collapsed": true
   },
   "outputs": [
    {
     "name": "stderr",
     "output_type": "stream",
     "text": [
      "C:\\Users\\miche\\AppData\\Local\\Enthought\\Canopy\\User\\lib\\site-packages\\fix_yahoo_finance\\__init__.py:43: DeprecationWarning: \n",
      "    Auto-overriding of pandas_datareader's get_data_yahoo() is deprecated and no longer available.\n",
      "    Use pdr_override() to explicitly override it.\n",
      "  DeprecationWarning)\n"
     ]
    },
    {
     "name": "stdout",
     "output_type": "stream",
     "text": [
      "[*********************100%***********************]  1 of 1 downloaded"
     ]
    }
   ],
   "source": [
    "import pandas as pd\n",
    "import fix_yahoo_finance as yf\n",
    "data = yf.download(\"GOOGL\", start=\"2004-01-01\", end=\"2017-09-27\")\n",
    "stock = data.Close"
   ]
  },
  {
   "cell_type": "markdown",
   "metadata": {},
   "source": [
    "<b>WARNING:</b> You should execute the code above ONLY ONCE. If you want to re-execute it, you must restart the kernel first. If you don't, the Series object <i>stock</i> will be empty."
   ]
  },
  {
   "cell_type": "markdown",
   "metadata": {},
   "source": [
    "The following command will plot the stock price"
   ]
  },
  {
   "cell_type": "code",
   "execution_count": 2,
   "metadata": {
    "collapsed": false
   },
   "outputs": [
    {
     "name": "stdout",
     "output_type": "stream",
     "text": [
      "Populating the interactive namespace from numpy and matplotlib\n"
     ]
    },
    {
     "name": "stderr",
     "output_type": "stream",
     "text": [
      "C:\\Users\\miche\\AppData\\Local\\Enthought\\Canopy\\User\\lib\\site-packages\\ipykernel\\pylab\\config.py:66: DeprecationWarning: metadata {'config': True} was set from the constructor.  Metadata should be set using the .tag() method, e.g., Int().tag(key1='value1', key2='value2')\n",
      "  inline backend.\"\"\"\n",
      "C:\\Users\\miche\\AppData\\Local\\Enthought\\Canopy\\User\\lib\\site-packages\\ipykernel\\pylab\\config.py:44: DeprecationWarning: InlineBackend._config_changed is deprecated: use @observe and @unobserve instead.\n",
      "  def _config_changed(self, name, old, new):\n",
      "C:\\Users\\miche\\AppData\\Local\\Enthought\\Canopy\\User\\lib\\site-packages\\traitlets\\traitlets.py:770: DeprecationWarning: A parent of InlineBackend._config_changed has adopted the new @observe(change) API\n",
      "  clsname, change_or_name), DeprecationWarning)\n",
      "C:\\Users\\miche\\AppData\\Local\\Enthought\\Canopy\\User\\lib\\site-packages\\IPython\\core\\formatters.py:98: DeprecationWarning: DisplayFormatter._formatters_default is deprecated: use @default decorator instead.\n",
      "  def _formatters_default(self):\n",
      "C:\\Users\\miche\\AppData\\Local\\Enthought\\Canopy\\User\\lib\\site-packages\\IPython\\core\\formatters.py:677: DeprecationWarning: PlainTextFormatter._deferred_printers_default is deprecated: use @default decorator instead.\n",
      "  def _deferred_printers_default(self):\n",
      "C:\\Users\\miche\\AppData\\Local\\Enthought\\Canopy\\User\\lib\\site-packages\\IPython\\core\\formatters.py:669: DeprecationWarning: PlainTextFormatter._singleton_printers_default is deprecated: use @default decorator instead.\n",
      "  def _singleton_printers_default(self):\n",
      "C:\\Users\\miche\\AppData\\Local\\Enthought\\Canopy\\User\\lib\\site-packages\\IPython\\core\\formatters.py:672: DeprecationWarning: PlainTextFormatter._type_printers_default is deprecated: use @default decorator instead.\n",
      "  def _type_printers_default(self):\n",
      "C:\\Users\\miche\\AppData\\Local\\Enthought\\Canopy\\User\\lib\\site-packages\\dateutil\\rrule.py:452: DeprecationWarning: Using both 'count' and 'until' is inconsistent with RFC 2445 and has been deprecated in dateutil. Future versions will raise an error.\n",
      "  \"raise an error.\", DeprecationWarning)\n",
      "C:\\Users\\miche\\AppData\\Local\\Enthought\\Canopy\\User\\lib\\site-packages\\IPython\\core\\formatters.py:92: DeprecationWarning: DisplayFormatter._ipython_display_formatter_default is deprecated: use @default decorator instead.\n",
      "  def _ipython_display_formatter_default(self):\n"
     ]
    },
    {
     "data": {
      "text/plain": [
       "<matplotlib.axes._subplots.AxesSubplot at 0x93fa908>"
      ]
     },
     "execution_count": 2,
     "metadata": {},
     "output_type": "execute_result"
    },
    {
     "data": {
      "image/png": "[encoded data removed]",
      "text/plain": [
       "<matplotlib.figure.Figure at 0x93ecb00>"
      ]
     },
     "metadata": {},
     "output_type": "display_data"
    }
   ],
   "source": [
    "%pylab inline\n",
    "stock.plot()"
   ]
  },
  {
   "cell_type": "markdown",
   "metadata": {},
   "source": [
    "## Exploring a Time Series"
   ]
  },
  {
   "cell_type": "markdown",
   "metadata": {},
   "source": [
    "This Series object has one entry for each trading day. The index (of type <i>datetime64</i>) is the day and the value (of type <i>float64</i>) is the closing price."
   ]
  },
  {
   "cell_type": "markdown",
   "metadata": {},
   "source": [
    "Let's take a look at the first 10 days of data"
   ]
  },
  {
   "cell_type": "code",
   "execution_count": 3,
   "metadata": {
    "collapsed": false
   },
   "outputs": [
    {
     "data": {
      "text/plain": [
       "Date\n",
       "2004-08-19    50.220219\n",
       "2004-08-20    54.209209\n",
       "2004-08-23    54.754753\n",
       "2004-08-24    52.487488\n",
       "2004-08-25    53.053055\n",
       "2004-08-26    54.009010\n",
       "2004-08-27    53.128128\n",
       "2004-08-30    51.056057\n",
       "2004-08-31    51.236237\n",
       "2004-09-01    50.175175\n",
       "Name: Close, dtype: float64"
      ]
     },
     "execution_count": 3,
     "metadata": {},
     "output_type": "execute_result"
    }
   ],
   "source": [
    "stock.head(10)"
   ]
  },
  {
   "cell_type": "markdown",
   "metadata": {},
   "source": [
    "Let's take a look at the last 10 days of data"
   ]
  },
  {
   "cell_type": "code",
   "execution_count": 4,
   "metadata": {
    "collapsed": false
   },
   "outputs": [
    {
     "data": {
      "text/plain": [
       "Date\n",
       "2017-09-13    950.440002\n",
       "2017-09-14    940.130005\n",
       "2017-09-15    935.289978\n",
       "2017-09-18    929.750000\n",
       "2017-09-19    936.859985\n",
       "2017-09-20    947.539978\n",
       "2017-09-21    947.549988\n",
       "2017-09-22    943.260010\n",
       "2017-09-25    934.280029\n",
       "2017-09-26    937.429993\n",
       "Name: Close, dtype: float64"
      ]
     },
     "execution_count": 4,
     "metadata": {},
     "output_type": "execute_result"
    }
   ],
   "source": [
    "stock.tail(10)"
   ]
  },
  {
   "cell_type": "markdown",
   "metadata": {},
   "source": [
    "## Questions"
   ]
  },
  {
   "cell_type": "markdown",
   "metadata": {},
   "source": [
    "Answer these questions without using for loops."
   ]
  },
  {
   "cell_type": "markdown",
   "metadata": {},
   "source": [
    "<b>Question 1</b><br/>What day had the largest stock price? "
   ]
  },
  {
   "cell_type": "code",
   "execution_count": 5,
   "metadata": {
    "collapsed": false
   },
   "outputs": [
    {
     "name": "stdout",
     "output_type": "stream",
     "text": [
      "On 2017-06-08 00:00:00, the stock price was 1004.280029\n"
     ]
    }
   ],
   "source": [
    "print 'On ' + str(stock.idxmax()) + ', the stock price was ' + str(stock[stock.idxmax()])"
   ]
  },
  {
   "cell_type": "markdown",
   "metadata": {},
   "source": [
    "<b>Question 2</b><br/>What are the 10 days with largest stock price? Report both the day and the price."
   ]
  },
  {
   "cell_type": "code",
   "execution_count": 6,
   "metadata": {
    "collapsed": false
   },
   "outputs": [
    {
     "data": {
      "text/plain": [
       "Date\n",
       "2017-06-08    1004.280029\n",
       "2017-06-05    1003.880005\n",
       "2017-06-07    1001.500000\n",
       "2017-07-24     998.309998\n",
       "2017-06-06     996.679993\n",
       "2017-05-30     996.169983\n",
       "2017-06-02     996.119995\n",
       "2017-07-21     993.840027\n",
       "2017-05-26     993.270020\n",
       "2017-07-19     992.770020\n",
       "Name: Close, dtype: float64"
      ]
     },
     "execution_count": 6,
     "metadata": {},
     "output_type": "execute_result"
    }
   ],
   "source": [
    "stock.nlargest(10)"
   ]
  },
  {
   "cell_type": "markdown",
   "metadata": {},
   "source": [
    "<b>Question 3</b><br/>How much profit (%) would we have made if we had bought at the beginning and sold everything on the last day? Do not type in any date."
   ]
  },
  {
   "cell_type": "code",
   "execution_count": 7,
   "metadata": {
    "collapsed": false
   },
   "outputs": [
    {
     "data": {
      "text/plain": [
       "1766.638600281691"
      ]
     },
     "execution_count": 7,
     "metadata": {},
     "output_type": "execute_result"
    }
   ],
   "source": [
    "(stock.iloc[-1] - stock.iloc[0]) / stock.iloc[0] * 100"
   ]
  },
  {
   "cell_type": "markdown",
   "metadata": {},
   "source": [
    "<b>Question 4</b><br/>\n",
    "What is the moving average of the price at each trading session? Use a 50-trading-days window. <i>Hint</i>: Explore the method <i>rolling</i>"
   ]
  },
  {
   "cell_type": "code",
   "execution_count": 8,
   "metadata": {
    "collapsed": false,
    "scrolled": true
   },
   "outputs": [
    {
     "data": {
      "text/plain": [
       "Date\n",
       "2004-08-19         NaN\n",
       "2004-08-20         NaN\n",
       "2004-08-23         NaN\n",
       "2004-08-24         NaN\n",
       "2004-08-25         NaN\n",
       "2004-08-26         NaN\n",
       "2004-08-27         NaN\n",
       "2004-08-30         NaN\n",
       "2004-08-31         NaN\n",
       "2004-09-01         NaN\n",
       "2004-09-02         NaN\n",
       "2004-09-03         NaN\n",
       "2004-09-07         NaN\n",
       "2004-09-08         NaN\n",
       "2004-09-09         NaN\n",
       "2004-09-10         NaN\n",
       "2004-09-13         NaN\n",
       "2004-09-14         NaN\n",
       "2004-09-15         NaN\n",
       "2004-09-16         NaN\n",
       "2004-09-17         NaN\n",
       "2004-09-20         NaN\n",
       "2004-09-21         NaN\n",
       "2004-09-22         NaN\n",
       "2004-09-23         NaN\n",
       "2004-09-24         NaN\n",
       "2004-09-27         NaN\n",
       "2004-09-28         NaN\n",
       "2004-09-29         NaN\n",
       "2004-09-30         NaN\n",
       "                ...   \n",
       "2017-03-06    830.9158\n",
       "2017-03-07    831.6948\n",
       "2017-03-08    832.5740\n",
       "2017-03-09    833.5748\n",
       "2017-03-10    834.6042\n",
       "2017-03-13    835.8044\n",
       "2017-03-14    837.0650\n",
       "2017-03-15    838.5838\n",
       "2017-03-16    839.8236\n",
       "2017-03-17    841.1156\n",
       "2017-03-20    842.2134\n",
       "2017-03-21    842.7120\n",
       "2017-03-22    843.1644\n",
       "2017-03-23    843.4372\n",
       "2017-03-24    843.5428\n",
       "2017-03-27    843.7224\n",
       "2017-03-28    843.9162\n",
       "2017-03-29    844.3644\n",
       "2017-03-30    844.7736\n",
       "2017-03-31    845.2422\n",
       "2017-04-03    845.8138\n",
       "2017-04-04    845.9766\n",
       "2017-04-05    845.9642\n",
       "2017-04-06    845.6972\n",
       "2017-04-07    845.3996\n",
       "2017-04-10    845.3330\n",
       "2017-04-11    845.6540\n",
       "2017-04-12    846.0794\n",
       "2017-04-13    846.5782\n",
       "2017-04-17    847.3156\n",
       "Name: GOOGL, dtype: float64"
      ]
     },
     "execution_count": 8,
     "metadata": {},
     "output_type": "execute_result"
    }
   ],
   "source": [
    "rol = stock.rolling(50)\n",
    "rol.mean()"
   ]
  },
  {
   "cell_type": "markdown",
   "metadata": {},
   "source": [
    "<b>Question 5</b><br/>\n",
    "Consider this investment strategy: buy on day x and then sell after 5 days (on day x+5). Find the expected profit (in %) of this operation. <i>Hint</i>: explore the method <i>shift</i>"
   ]
  },
  {
   "cell_type": "code",
   "execution_count": 9,
   "metadata": {
    "collapsed": false,
    "scrolled": true
   },
   "outputs": [
    {
     "data": {
      "text/plain": [
       "count    3295.000000\n",
       "mean        0.531625\n",
       "std         4.367512\n",
       "min       -17.878656\n",
       "25%        -1.786603\n",
       "50%         0.549815\n",
       "75%         2.678885\n",
       "max        32.372413\n",
       "Name: Close, dtype: float64"
      ]
     },
     "execution_count": 9,
     "metadata": {},
     "output_type": "execute_result"
    }
   ],
   "source": [
    "(((stock.shift(-5) - stock) / stock) * 100).describe()"
   ]
  },
  {
   "cell_type": "markdown",
   "metadata": {},
   "source": [
    "<b>Question 6</b><br/>\n",
    "Consider this investment strategy: buy whenever the price goes above the 20-day moving average, and then sell after 5 trading sessions. How much profit (in %) would we make on average?"
   ]
  },
  {
   "cell_type": "code",
   "execution_count": 10,
   "metadata": {
    "collapsed": false
   },
   "outputs": [
    {
     "data": {
      "text/plain": [
       "count    1910.000000\n",
       "mean        0.627139\n",
       "std         4.177333\n",
       "min       -15.119642\n",
       "25%        -1.668720\n",
       "50%         0.581451\n",
       "75%         2.652700\n",
       "max        32.372413\n",
       "Name: Close, dtype: float64"
      ]
     },
     "execution_count": 10,
     "metadata": {},
     "output_type": "execute_result"
    }
   ],
   "source": [
    "rol = stock.rolling(20).mean()\n",
    "profitMade = (stock.shift(-5) - stock) / stock\n",
    "(profitMade[stock > rol]* 100).describe()"
   ]
  },
  {
   "cell_type": "markdown",
   "metadata": {},
   "source": [
    "## Median prices of single family homes in zip code 95050"
   ]
  },
  {
   "cell_type": "markdown",
   "metadata": {},
   "source": [
    "The file <i>santaclara_sfh.csv</i> was downloaded from <a href= 'http://redfin.com'>redfin.com</a>. For each end of month day, this file reports the median price of a single family home (sfh) in zip code 95050 over the previous 3 months. The data starts from 2012-01-31 and ends on 2017-08-31."
   ]
  },
  {
   "cell_type": "markdown",
   "metadata": {},
   "source": [
    "The following code loads and cleans the data set <i>santaclara_sfh.csv</i>, which you should copy into the same folder as this Jupyter notebook. For the moment, do not worry about understanding the code."
   ]
  },
  {
   "cell_type": "code",
   "execution_count": 14,
   "metadata": {
    "collapsed": false
   },
   "outputs": [],
   "source": [
    "# don't worry about understanding this code\n",
    "df = pd.read_csv('santaclara_sfh.csv')\n",
    "df['date'] = pd.to_datetime(df.date) # make the date column of type datetime\n",
    "df['median_sfh_price_past_3_months'] = df.median_sfh_price_past_3_months + 0.0 # make the price column of type float\n",
    "df.set_index('date',inplace=True) # make date the index \n",
    "housing = df['median_sfh_price_past_3_months'] # take the series of median prices\n",
    "housing.name = 'housing'"
   ]
  },
  {
   "cell_type": "markdown",
   "metadata": {},
   "source": [
    "Let's take a look at the oldest prices"
   ]
  },
  {
   "cell_type": "code",
   "execution_count": 15,
   "metadata": {
    "collapsed": false
   },
   "outputs": [
    {
     "data": {
      "text/plain": [
       "date\n",
       "2012-01-31    516000.0\n",
       "2012-02-29    520000.0\n",
       "2012-03-31    520000.0\n",
       "2012-04-30    520000.0\n",
       "2012-05-31    524000.0\n",
       "Name: housing, dtype: float64"
      ]
     },
     "execution_count": 15,
     "metadata": {},
     "output_type": "execute_result"
    }
   ],
   "source": [
    "housing.head()"
   ]
  },
  {
   "cell_type": "markdown",
   "metadata": {},
   "source": [
    "Remember that each price is the median over the previous three months. So, for example, the median sale price in the period from 2012-02-01 to 2012-04-30 was $520,000. Let's plot it."
   ]
  },
  {
   "cell_type": "code",
   "execution_count": 16,
   "metadata": {
    "collapsed": false
   },
   "outputs": [
    {
     "name": "stdout",
     "output_type": "stream",
     "text": [
      "Populating the interactive namespace from numpy and matplotlib\n"
     ]
    },
    {
     "data": {
      "text/plain": [
       "<matplotlib.axes._subplots.AxesSubplot at 0x9e303c8>"
      ]
     },
     "execution_count": 16,
     "metadata": {},
     "output_type": "execute_result"
    },
    {
     "data": {
      "image/png": "[encoded data removed]",
      "text/plain": [
       "<matplotlib.figure.Figure at 0xa006978>"
      ]
     },
     "metadata": {},
     "output_type": "display_data"
    }
   ],
   "source": [
    "%pylab inline\n",
    "housing.plot()"
   ]
  },
  {
   "cell_type": "markdown",
   "metadata": {},
   "source": [
    "## Are housing prices correlated to stock prices?"
   ]
  },
  {
   "cell_type": "markdown",
   "metadata": {},
   "source": [
    "<p>To anwer this question, we first need to align the two Series. The Series <i>housing</i> has one entry for each ending day of each month and a value that is the 3-month moving average; the series <i>stock</i> has one entry for each <b>trading day</b> and the value that is the closing price. </p>\n",
    "<p>To align the two Series, we will create a new Series of stock prices that has only one entry for every month-end-day and reports the 3-month moving median price of the stock</p>"
   ]
  },
  {
   "cell_type": "markdown",
   "metadata": {},
   "source": [
    "<p>We will do the following:\n",
    "<ol>\n",
    "<li>Pad <i>stock</i> so that there are no missing days (currently, holidays are missing)\n",
    "<li>Compute the 3-month moving median of <i>stock</i>\n",
    "<li>Retain only the end-of-month days in <i>stock</i>\n",
    "</ol>\n",
    "</p>\n"
   ]
  },
  {
   "cell_type": "markdown",
   "metadata": {},
   "source": [
    "#### Step #1: Pad stock so that there are no missing days (currently, holidays are missing)"
   ]
  },
  {
   "cell_type": "code",
   "execution_count": 17,
   "metadata": {
    "collapsed": false
   },
   "outputs": [],
   "source": [
    "padded = stock.asfreq('1D',method='ffill')"
   ]
  },
  {
   "cell_type": "markdown",
   "metadata": {},
   "source": [
    "#### Step #2: Compute the 90-day moving average of stock"
   ]
  },
  {
   "cell_type": "code",
   "execution_count": 18,
   "metadata": {
    "collapsed": false
   },
   "outputs": [],
   "source": [
    "movmed = padded.rolling(90).median()"
   ]
  },
  {
   "cell_type": "markdown",
   "metadata": {},
   "source": [
    "#### Step #3: Retain the same days as in the housing Series"
   ]
  },
  {
   "cell_type": "code",
   "execution_count": 19,
   "metadata": {
    "collapsed": false
   },
   "outputs": [],
   "source": [
    "mod_stock = movmed[housing.index]"
   ]
  },
  {
   "cell_type": "markdown",
   "metadata": {},
   "source": [
    "### Compute correlation"
   ]
  },
  {
   "cell_type": "markdown",
   "metadata": {},
   "source": [
    "Are stock and housing prices correlated?"
   ]
  },
  {
   "cell_type": "code",
   "execution_count": 20,
   "metadata": {
    "collapsed": false
   },
   "outputs": [
    {
     "data": {
      "text/plain": [
       "0.95912672795804932"
      ]
     },
     "execution_count": 20,
     "metadata": {},
     "output_type": "execute_result"
    }
   ],
   "source": [
    "housing.corr(mod_stock)"
   ]
  },
  {
   "cell_type": "markdown",
   "metadata": {},
   "source": [
    "Uh... yes, they are strongly correlated"
   ]
  },
  {
   "cell_type": "markdown",
   "metadata": {},
   "source": [
    "Let's plot them"
   ]
  },
  {
   "cell_type": "code",
   "execution_count": 21,
   "metadata": {
    "collapsed": false
   },
   "outputs": [
    {
     "data": {
      "image/png": "[encoded data removed]",
      "text/plain": [
       "<matplotlib.figure.Figure at 0xa2f50b8>"
      ]
     },
     "metadata": {},
     "output_type": "display_data"
    }
   ],
   "source": [
    "import matplotlib.pyplot as plt\n",
    "\n",
    "plt.plot(housing,'r') # r for \"red\" \n",
    "plt.plot(mod_stock,'b')  # b for \"blue\"\n",
    "plt.legend(loc=2)\n",
    "plt.show()"
   ]
  },
  {
   "cell_type": "markdown",
   "metadata": {},
   "source": [
    "mmm... the problem is that the two scales are very different: housing is about 1M dollars while the stock price is in the order of hundreds of dollars"
   ]
  },
  {
   "cell_type": "markdown",
   "metadata": {},
   "source": [
    "Let's normalize them so that the value on the first day (2012-01-31) is 1 for both series."
   ]
  },
  {
   "cell_type": "code",
   "execution_count": 22,
   "metadata": {
    "collapsed": true
   },
   "outputs": [],
   "source": [
    "norm_housing = housing / housing[0]"
   ]
  },
  {
   "cell_type": "code",
   "execution_count": 23,
   "metadata": {
    "collapsed": true
   },
   "outputs": [],
   "source": [
    "norm_stock = mod_stock / mod_stock[0]"
   ]
  },
  {
   "cell_type": "code",
   "execution_count": 24,
   "metadata": {
    "collapsed": false
   },
   "outputs": [
    {
     "data": {
      "image/png": "[encoded data removed]",
      "text/plain": [
       "<matplotlib.figure.Figure at 0xa2213c8>"
      ]
     },
     "metadata": {},
     "output_type": "display_data"
    }
   ],
   "source": [
    "import matplotlib.pyplot as plt\n",
    "\n",
    "plt.plot(norm_housing,'r') # r for \"red\" \n",
    "plt.plot(norm_stock,'b')  # b for \"blue\"\n",
    "plt.legend(loc=2)\n",
    "plt.show()"
   ]
  },
  {
   "cell_type": "code",
   "execution_count": null,
   "metadata": {
    "collapsed": true
   },
   "outputs": [],
   "source": []
  }
 ],
 "metadata": {
  "kernelspec": {
   "display_name": "Python 2",
   "language": "python",
   "name": "python2"
  },
  "language_info": {
   "codemirror_mode": {
    "name": "ipython",
    "version": 2
   },
   "file_extension": ".py",
   "mimetype": "text/x-python",
   "name": "python",
   "nbconvert_exporter": "python",
   "pygments_lexer": "ipython2",
   "version": "2.7.11"
  }
 },
 "nbformat": 4,
 "nbformat_minor": 0
}
